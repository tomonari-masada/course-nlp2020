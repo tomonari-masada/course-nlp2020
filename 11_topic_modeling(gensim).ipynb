{
  "nbformat": 4,
  "nbformat_minor": 0,
  "metadata": {
    "colab": {
      "name": "11_topic_modeling(gensim).ipynb",
      "provenance": [],
      "mount_file_id": "1eSZhuz67sbe-WWlkA0o20H2_nqVQoVvw",
      "authorship_tag": "ABX9TyOn0XKVZlNxWZVeS66ZVuhh",
      "include_colab_link": true
    },
    "kernelspec": {
      "name": "python3",
      "display_name": "Python 3"
    }
  },
  "cells": [
    {
      "cell_type": "markdown",
      "metadata": {
        "id": "view-in-github",
        "colab_type": "text"
      },
      "source": [
        "<a href=\"https://colab.research.google.com/github/tomonari-masada/course-nlp2020/blob/master/11_topic_modeling(gensim).ipynb\" target=\"_parent\"><img src=\"https://colab.research.google.com/assets/colab-badge.svg\" alt=\"Open In Colab\"/></a>"
      ]
    },
    {
      "cell_type": "markdown",
      "metadata": {
        "id": "esWpBTQz0R-Y"
      },
      "source": [
        "# gensimでLDAを動かす"
      ]
    },
    {
      "cell_type": "markdown",
      "metadata": {
        "id": "zPFtzLzc0W-m"
      },
      "source": [
        "* gensimのLdaModelはデフォルトの設定だと正しく動かない\n",
        " * passesを20ぐらいにはしておくこと。\n",
        " * 下記Webページは使い方を間違っているので要注意（passesをデフォルト設定で使っている）\n",
        " http://www.ie110704.net/2018/12/29/wordcloud%E3%81%A8pyldavis%E3%81%AB%E3%82%88%E3%82%8Blda%E3%81%AE%E5%8F%AF%E8%A6%96%E5%8C%96%E3%81%AB%E3%81%A4%E3%81%84%E3%81%A6/\n",
        "* gensimのperplexityはトークンあたりのELBOのnp.exp2()で求めている\n",
        " * 自然対数の底を使って求めたELBOをもとにして計算しているにもかかわらず。\n"
      ]
    },
    {
      "cell_type": "code",
      "metadata": {
        "id": "jcjZfLnSulSA"
      },
      "source": [
        "import os.path\n",
        "import re\n",
        "import tarfile\n",
        "import smart_open\n",
        "\n",
        "\n",
        "PATH = '/content/drive/MyDrive/data'\n",
        "\n",
        "\n",
        "def extract_documents(url='https://cs.nyu.edu/~roweis/data/nips12raw_str602.tgz'):\n",
        "\n",
        "  fname = os.path.join(PATH, url.split('/')[-1])\n",
        "\n",
        "  if not os.path.isfile(fname):\n",
        "    with smart_open.open(url, \"rb\") as fin:\n",
        "      with smart_open.open(fname, 'wb') as fout:\n",
        "        while True:\n",
        "          buf = fin.read(io.DEFAULT_BUFFER_SIZE)\n",
        "          if not buf:\n",
        "            break\n",
        "          fout.write(buf)\n",
        "\n",
        "  with tarfile.open(fname, mode='r:gz') as tar:\n",
        "  # Ignore directory entries, as well as files like README, etc.\n",
        "    files = [\n",
        "             m for m in tar.getmembers()\n",
        "             if m.isfile() and re.search(r'nipstxt/nips\\d+/\\d+\\.txt', m.name)\n",
        "             ]\n",
        "    for member in sorted(files, key=lambda x: x.name):\n",
        "      member_bytes = tar.extractfile(member).read()\n",
        "      yield member_bytes.decode('utf-8', errors='replace')"
      ],
      "execution_count": null,
      "outputs": []
    },
    {
      "cell_type": "code",
      "metadata": {
        "id": "Fd54C_kJu5he"
      },
      "source": [
        "docs = list(extract_documents())"
      ],
      "execution_count": null,
      "outputs": []
    },
    {
      "cell_type": "code",
      "metadata": {
        "id": "TJH8MH5Fu8gx"
      },
      "source": [
        "print(len(docs))"
      ],
      "execution_count": null,
      "outputs": []
    },
    {
      "cell_type": "code",
      "metadata": {
        "id": "W6knc5WlvAB3"
      },
      "source": [
        "print(docs[0][:1000])"
      ],
      "execution_count": null,
      "outputs": []
    },
    {
      "cell_type": "code",
      "metadata": {
        "id": "c4wwSZbWvBti"
      },
      "source": [
        "import spacy\n",
        "\n",
        "nlp = spacy.load('en', disable=[\"tagger\", \"parser\", \"ner\"])"
      ],
      "execution_count": null,
      "outputs": []
    },
    {
      "cell_type": "code",
      "metadata": {
        "id": "cq_PTIsCvD-g"
      },
      "source": [
        "def spacy_lemmatize_text(nlp, text):\n",
        "  text = nlp(text.lower())\n",
        "  doc = [word.lemma_ if word.lemma_ != '-PRON-' else word.text for word in text]\n",
        "  return [word for word in doc if len(word) > 1] # 長さ1の単語は削除"
      ],
      "execution_count": null,
      "outputs": []
    },
    {
      "cell_type": "code",
      "metadata": {
        "id": "sXwYKM9MvIid"
      },
      "source": [
        "from tqdm import tqdm\n",
        "\n",
        "new_docs = list()\n",
        "for doc in tqdm(docs):\n",
        "  new_docs.append(spacy_lemmatize_text(nlp, doc))"
      ],
      "execution_count": null,
      "outputs": []
    },
    {
      "cell_type": "code",
      "metadata": {
        "id": "OeLc3JXLvJo0"
      },
      "source": [
        "print(new_docs[0])"
      ],
      "execution_count": null,
      "outputs": []
    },
    {
      "cell_type": "code",
      "metadata": {
        "id": "L9-3D9ZNwXhj"
      },
      "source": [
        "from gensim import corpora"
      ],
      "execution_count": null,
      "outputs": []
    },
    {
      "cell_type": "code",
      "metadata": {
        "id": "BXu60738wa7U"
      },
      "source": [
        "dictionary = corpora.Dictionary(new_docs)"
      ],
      "execution_count": null,
      "outputs": []
    },
    {
      "cell_type": "code",
      "metadata": {
        "id": "Zq3U89xNwdq5"
      },
      "source": [
        "print(dictionary)"
      ],
      "execution_count": null,
      "outputs": []
    },
    {
      "cell_type": "code",
      "metadata": {
        "id": "PuOB-2RowgCS"
      },
      "source": [
        "dictionary.filter_extremes(no_below=10, no_above=0.5)"
      ],
      "execution_count": null,
      "outputs": []
    },
    {
      "cell_type": "code",
      "metadata": {
        "id": "x8298UH3xqnq"
      },
      "source": [
        "len(dictionary)"
      ],
      "execution_count": null,
      "outputs": []
    },
    {
      "cell_type": "code",
      "metadata": {
        "id": "zmmL5pDOxsGl"
      },
      "source": [
        "corpus = [dictionary.doc2bow(doc) for doc in new_docs]"
      ],
      "execution_count": null,
      "outputs": []
    },
    {
      "cell_type": "code",
      "metadata": {
        "id": "jgS3HNaqyJYT"
      },
      "source": [
        "print(corpus[0])"
      ],
      "execution_count": null,
      "outputs": []
    },
    {
      "cell_type": "code",
      "metadata": {
        "id": "iQVi5Lp6yszS"
      },
      "source": [
        "n_components = 20"
      ],
      "execution_count": null,
      "outputs": []
    },
    {
      "cell_type": "code",
      "metadata": {
        "id": "iB61vvmsz4eJ"
      },
      "source": [
        "import logging\n",
        "logging.basicConfig(format='%(asctime)s : %(levelname)s : %(message)s', level=logging.INFO)"
      ],
      "execution_count": null,
      "outputs": []
    },
    {
      "cell_type": "code",
      "metadata": {
        "id": "YQuPJy0NyLdS"
      },
      "source": [
        "from gensim.models.ldamodel import LdaModel"
      ],
      "execution_count": null,
      "outputs": []
    },
    {
      "cell_type": "code",
      "metadata": {
        "id": "fcsV9A2JyhCD"
      },
      "source": [
        "lda = LdaModel(corpus=corpus, num_topics=n_components,\n",
        "               passes=20)"
      ],
      "execution_count": null,
      "outputs": []
    },
    {
      "cell_type": "code",
      "metadata": {
        "id": "NwbwMboQzRan"
      },
      "source": [
        "import numpy as np\n",
        "np.exp(- lda.log_perplexity(corpus))"
      ],
      "execution_count": null,
      "outputs": []
    },
    {
      "cell_type": "code",
      "metadata": {
        "id": "lBl6_v701N2f"
      },
      "source": [
        ""
      ],
      "execution_count": null,
      "outputs": []
    }
  ]
}