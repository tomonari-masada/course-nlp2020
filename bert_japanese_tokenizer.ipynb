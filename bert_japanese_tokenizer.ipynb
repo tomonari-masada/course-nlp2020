{
  "nbformat": 4,
  "nbformat_minor": 0,
  "metadata": {
    "colab": {
      "name": "bert-japanese-tokenizer.ipynb",
      "provenance": [],
      "collapsed_sections": [],
      "authorship_tag": "ABX9TyM2PJHQ2OootcuMRHwqFK4Q",
      "include_colab_link": true
    },
    "kernelspec": {
      "name": "python3",
      "display_name": "Python 3"
    },
    "accelerator": "GPU"
  },
  "cells": [
    {
      "cell_type": "markdown",
      "metadata": {
        "id": "view-in-github",
        "colab_type": "text"
      },
      "source": [
        "<a href=\"https://colab.research.google.com/github/tomonari-masada/course-nlp2020/blob/master/bert_japanese_tokenizer.ipynb\" target=\"_parent\"><img src=\"https://colab.research.google.com/assets/colab-badge.svg\" alt=\"Open In Colab\"/></a>"
      ]
    },
    {
      "cell_type": "code",
      "metadata": {
        "id": "O9Bb48dGMknE"
      },
      "source": [
        "!pip install transformers"
      ],
      "execution_count": null,
      "outputs": []
    },
    {
      "cell_type": "code",
      "metadata": {
        "id": "YxtF0Pp3KivR"
      },
      "source": [
        "!pip install fugashi[unidic]\n",
        "!python -m unidic download"
      ],
      "execution_count": null,
      "outputs": []
    },
    {
      "cell_type": "code",
      "metadata": {
        "id": "0ZY_15nuKtUs"
      },
      "source": [
        "!pip install ipadic"
      ],
      "execution_count": null,
      "outputs": []
    },
    {
      "cell_type": "code",
      "metadata": {
        "id": "X5ZhYuCRMcDo"
      },
      "source": [
        "from transformers import BertJapaneseTokenizer, BertForMaskedLM"
      ],
      "execution_count": null,
      "outputs": []
    },
    {
      "cell_type": "code",
      "metadata": {
        "id": "ZeHFUqCdMhbg"
      },
      "source": [
        "tokenizer = BertJapaneseTokenizer.from_pretrained('cl-tohoku/bert-base-japanese-whole-word-masking')"
      ],
      "execution_count": null,
      "outputs": []
    },
    {
      "cell_type": "code",
      "metadata": {
        "id": "HbnUbfJIPTN4"
      },
      "source": [
        "print(tokenizer.tokenize('企業向けソフトウエア大手のオラクルは、シリコンバレー屈指の収益性を誇りつつも目立たない企業の一つだ。'))"
      ],
      "execution_count": null,
      "outputs": []
    },
    {
      "cell_type": "markdown",
      "metadata": {
        "id": "s-JAzJSmIyeV"
      },
      "source": [
        "'##ウ'や'##エア'や'##クル'や'##バレー'がサブワード。\n",
        "つまり、これらについては、元は単語の一部分だったことがBERTにも伝わる。"
      ]
    },
    {
      "cell_type": "code",
      "metadata": {
        "id": "wirim9WgQ5B4"
      },
      "source": [
        "print(tokenizer.tokenize('私は人工知能科学研究科に所属している。'))"
      ],
      "execution_count": null,
      "outputs": []
    },
    {
      "cell_type": "markdown",
      "metadata": {
        "id": "4McNwOlQJEA3"
      },
      "source": [
        "形態素解析が細かく区切ってしまっているので、「人工知能科学研究科」が複合名詞であることはBERTに伝わらない。\n",
        "\n",
        "しかし、'人工', '知能', '科学', '研究', '科'という5つの単語がこの順に並んでいるということは、BERTに伝わる。"
      ]
    },
    {
      "cell_type": "code",
      "metadata": {
        "id": "1Nlib9wCIWHr"
      },
      "source": [
        "print(tokenizer.tokenize('菅首相は緊急事態宣言延長を報告した参院議院運営委員会で「結果として宣言を延ばすことになり、国民に大変申し訳ない」と述べた。1カ月で解除できなかった責任は「全て私が背負う」とも語った。'))"
      ],
      "execution_count": null,
      "outputs": []
    },
    {
      "cell_type": "markdown",
      "metadata": {
        "id": "wT-WSv7JJLie"
      },
      "source": [
        "形態素解析で細切れにされているので、「緊急事態宣言」や「参院議院運営委員会」が複合名詞であることはBERTには伝わらない。"
      ]
    },
    {
      "cell_type": "code",
      "metadata": {
        "id": "kVPLtCoQJcsY"
      },
      "source": [
        ""
      ],
      "execution_count": null,
      "outputs": []
    }
  ]
}