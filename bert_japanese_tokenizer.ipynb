{
  "nbformat": 4,
  "nbformat_minor": 0,
  "metadata": {
    "colab": {
      "name": "bert-japanese-tokenizer.ipynb",
      "provenance": [],
      "collapsed_sections": [],
      "authorship_tag": "ABX9TyNDRCcgSeB5VkfL34DpkAsR",
      "include_colab_link": true
    },
    "kernelspec": {
      "name": "python3",
      "display_name": "Python 3"
    },
    "accelerator": "GPU"
  },
  "cells": [
    {
      "cell_type": "markdown",
      "metadata": {
        "id": "view-in-github",
        "colab_type": "text"
      },
      "source": [
        "<a href=\"https://colab.research.google.com/github/tomonari-masada/course-nlp2020/blob/master/bert_japanese_tokenizer.ipynb\" target=\"_parent\"><img src=\"https://colab.research.google.com/assets/colab-badge.svg\" alt=\"Open In Colab\"/></a>"
      ]
    },
    {
      "cell_type": "code",
      "metadata": {
        "id": "O9Bb48dGMknE",
        "colab": {
          "base_uri": "https://localhost:8080/"
        },
        "outputId": "1daccd1e-9329-4db4-f310-c6c6ca2f7ea9"
      },
      "source": [
        "!pip install transformers"
      ],
      "execution_count": 1,
      "outputs": [
        {
          "output_type": "stream",
          "text": [
            "Requirement already satisfied: transformers in /usr/local/lib/python3.6/dist-packages (4.2.2)\n",
            "Requirement already satisfied: packaging in /usr/local/lib/python3.6/dist-packages (from transformers) (20.8)\n",
            "Requirement already satisfied: sacremoses in /usr/local/lib/python3.6/dist-packages (from transformers) (0.0.43)\n",
            "Requirement already satisfied: dataclasses; python_version < \"3.7\" in /usr/local/lib/python3.6/dist-packages (from transformers) (0.8)\n",
            "Requirement already satisfied: importlib-metadata; python_version < \"3.8\" in /usr/local/lib/python3.6/dist-packages (from transformers) (3.4.0)\n",
            "Requirement already satisfied: tqdm>=4.27 in /usr/local/lib/python3.6/dist-packages (from transformers) (4.41.1)\n",
            "Requirement already satisfied: filelock in /usr/local/lib/python3.6/dist-packages (from transformers) (3.0.12)\n",
            "Requirement already satisfied: requests in /usr/local/lib/python3.6/dist-packages (from transformers) (2.23.0)\n",
            "Requirement already satisfied: numpy in /usr/local/lib/python3.6/dist-packages (from transformers) (1.19.5)\n",
            "Requirement already satisfied: tokenizers==0.9.4 in /usr/local/lib/python3.6/dist-packages (from transformers) (0.9.4)\n",
            "Requirement already satisfied: regex!=2019.12.17 in /usr/local/lib/python3.6/dist-packages (from transformers) (2019.12.20)\n",
            "Requirement already satisfied: pyparsing>=2.0.2 in /usr/local/lib/python3.6/dist-packages (from packaging->transformers) (2.4.7)\n",
            "Requirement already satisfied: click in /usr/local/lib/python3.6/dist-packages (from sacremoses->transformers) (7.1.2)\n",
            "Requirement already satisfied: six in /usr/local/lib/python3.6/dist-packages (from sacremoses->transformers) (1.15.0)\n",
            "Requirement already satisfied: joblib in /usr/local/lib/python3.6/dist-packages (from sacremoses->transformers) (1.0.0)\n",
            "Requirement already satisfied: typing-extensions>=3.6.4; python_version < \"3.8\" in /usr/local/lib/python3.6/dist-packages (from importlib-metadata; python_version < \"3.8\"->transformers) (3.7.4.3)\n",
            "Requirement already satisfied: zipp>=0.5 in /usr/local/lib/python3.6/dist-packages (from importlib-metadata; python_version < \"3.8\"->transformers) (3.4.0)\n",
            "Requirement already satisfied: chardet<4,>=3.0.2 in /usr/local/lib/python3.6/dist-packages (from requests->transformers) (3.0.4)\n",
            "Requirement already satisfied: idna<3,>=2.5 in /usr/local/lib/python3.6/dist-packages (from requests->transformers) (2.10)\n",
            "Requirement already satisfied: certifi>=2017.4.17 in /usr/local/lib/python3.6/dist-packages (from requests->transformers) (2020.12.5)\n",
            "Requirement already satisfied: urllib3!=1.25.0,!=1.25.1,<1.26,>=1.21.1 in /usr/local/lib/python3.6/dist-packages (from requests->transformers) (1.24.3)\n"
          ],
          "name": "stdout"
        }
      ]
    },
    {
      "cell_type": "code",
      "metadata": {
        "id": "X5ZhYuCRMcDo"
      },
      "source": [
        "from transformers import BertJapaneseTokenizer, BertForMaskedLM"
      ],
      "execution_count": 2,
      "outputs": []
    },
    {
      "cell_type": "code",
      "metadata": {
        "id": "ZeHFUqCdMhbg"
      },
      "source": [
        "tokenizer = BertJapaneseTokenizer.from_pretrained('cl-tohoku/bert-base-japanese-whole-word-masking')"
      ],
      "execution_count": 3,
      "outputs": []
    },
    {
      "cell_type": "code",
      "metadata": {
        "id": "HbnUbfJIPTN4",
        "colab": {
          "base_uri": "https://localhost:8080/"
        },
        "outputId": "a5c5e79d-e61b-4f1e-b028-fc03b19c895d"
      },
      "source": [
        "print(tokenizer.tokenize('企業向けソフトウエア大手のオラクルは、シリコンバレー屈指の収益性を誇りつつも目立たない企業の一つだ。'))"
      ],
      "execution_count": 4,
      "outputs": [
        {
          "output_type": "stream",
          "text": [
            "['企業', '向け', 'ソフト', '##ウ', '##エア', '大手', 'の', 'オラ', '##クル', 'は', '、', 'シリコン', '##バレー', '屈指', 'の', '収益', '性', 'を', '誇り', 'つつ', 'も', '目立た', 'ない', '企業', 'の', '一つ', 'だ', '。']\n"
          ],
          "name": "stdout"
        }
      ]
    },
    {
      "cell_type": "markdown",
      "metadata": {
        "id": "s-JAzJSmIyeV"
      },
      "source": [
        "'##ウ'や'##エア'や'##クル'や'##バレー'がサブワード。\n",
        "つまり、これらについては、元は単語の一部分だったことがBERTにも伝わる。"
      ]
    },
    {
      "cell_type": "code",
      "metadata": {
        "id": "wirim9WgQ5B4",
        "colab": {
          "base_uri": "https://localhost:8080/"
        },
        "outputId": "11f0a8a7-91ec-42ae-e7ad-0cde7ff87b06"
      },
      "source": [
        "print(tokenizer.tokenize('私は人工知能科学研究科に所属している。'))"
      ],
      "execution_count": 7,
      "outputs": [
        {
          "output_type": "stream",
          "text": [
            "['私', 'は', '人工', '知能', '科学', '研究', '科', 'に', '所属', 'し', 'て', 'いる', '。']\n"
          ],
          "name": "stdout"
        }
      ]
    },
    {
      "cell_type": "markdown",
      "metadata": {
        "id": "4McNwOlQJEA3"
      },
      "source": [
        "形態素解析が細かく区切ってしまっているので、「人工知能科学研究科」が複合名詞であることはBERTに伝わらない。\n",
        "\n",
        "しかし、'人工', '知能', '科学', '研究', '科'という5つの単語がこの順に並んでいるということは、BERTに伝わる。"
      ]
    },
    {
      "cell_type": "code",
      "metadata": {
        "colab": {
          "base_uri": "https://localhost:8080/"
        },
        "id": "1Nlib9wCIWHr",
        "outputId": "53201d69-c36d-4f4b-c9f9-ee9907a11bbf"
      },
      "source": [
        "print(tokenizer.tokenize('菅首相は緊急事態宣言延長を報告した参院議院運営委員会で「結果として宣言を延ばすことになり、国民に大変申し訳ない」と述べた。1カ月で解除できなかった責任は「全て私が背負う」とも語った。'))"
      ],
      "execution_count": 8,
      "outputs": [
        {
          "output_type": "stream",
          "text": [
            "['菅', '首相', 'は', '緊急', '事態', '宣言', '延長', 'を', '報告', 'し', 'た', '参院', '議院', '運営', '委員', '会', 'で', '「', '結果', 'として', '宣言', 'を', '延', '##ばす', 'こと', 'に', 'なり', '、', '国民', 'に', '大変', '申し', '##訳', 'ない', '」', 'と', '述べ', 'た', '。', '1', 'カ月', 'で', '解除', 'でき', 'なかっ', 'た', '責任', 'は', '「', '全て', '私', 'が', '背負', '##う', '」', 'と', 'も', '語っ', 'た', '。']\n"
          ],
          "name": "stdout"
        }
      ]
    },
    {
      "cell_type": "markdown",
      "metadata": {
        "id": "wT-WSv7JJLie"
      },
      "source": [
        "形態素解析で細切れにされているので、「緊急事態宣言」や「参院議院運営委員会」が複合名詞であることはBERTには伝わらない。"
      ]
    },
    {
      "cell_type": "code",
      "metadata": {
        "id": "kVPLtCoQJcsY"
      },
      "source": [
        ""
      ],
      "execution_count": null,
      "outputs": []
    }
  ]
}